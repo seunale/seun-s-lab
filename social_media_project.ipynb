{
 "cells": [
  {
   "cell_type": "code",
   "execution_count": 159,
   "metadata": {},
   "outputs": [],
   "source": [
    "#import libraries"
   ]
  },
  {
   "cell_type": "code",
   "execution_count": 160,
   "metadata": {},
   "outputs": [],
   "source": [
    "import pandas as pd"
   ]
  },
  {
   "cell_type": "code",
   "execution_count": 161,
   "metadata": {},
   "outputs": [],
   "source": [
    "import numpy as np"
   ]
  },
  {
   "cell_type": "code",
   "execution_count": 162,
   "metadata": {},
   "outputs": [],
   "source": [
    "import seaborn as sns"
   ]
  },
  {
   "cell_type": "code",
   "execution_count": 163,
   "metadata": {},
   "outputs": [],
   "source": [
    "import matplotlib.pyplot as plt"
   ]
  },
  {
   "cell_type": "code",
   "execution_count": 164,
   "metadata": {},
   "outputs": [],
   "source": [
    "%matplotlib inline"
   ]
  },
  {
   "cell_type": "code",
   "execution_count": 165,
   "metadata": {},
   "outputs": [],
   "source": [
    "import warnings"
   ]
  },
  {
   "cell_type": "code",
   "execution_count": 166,
   "metadata": {},
   "outputs": [],
   "source": [
    "warnings.filterwarnings(\"ignore\")"
   ]
  },
  {
   "cell_type": "code",
   "execution_count": 167,
   "metadata": {},
   "outputs": [],
   "source": [
    "media_df = pd.read_csv(r\"C:\\Users\\Prof Guru Joe\\Desktop\\Social_Network_Ads.csv\")"
   ]
  },
  {
   "cell_type": "code",
   "execution_count": 168,
   "metadata": {},
   "outputs": [
    {
     "data": {
      "text/html": [
       "<div>\n",
       "<style scoped>\n",
       "    .dataframe tbody tr th:only-of-type {\n",
       "        vertical-align: middle;\n",
       "    }\n",
       "\n",
       "    .dataframe tbody tr th {\n",
       "        vertical-align: top;\n",
       "    }\n",
       "\n",
       "    .dataframe thead th {\n",
       "        text-align: right;\n",
       "    }\n",
       "</style>\n",
       "<table border=\"1\" class=\"dataframe\">\n",
       "  <thead>\n",
       "    <tr style=\"text-align: right;\">\n",
       "      <th></th>\n",
       "      <th>User ID</th>\n",
       "      <th>Gender</th>\n",
       "      <th>Age</th>\n",
       "      <th>EstimatedSalary</th>\n",
       "      <th>Purchased</th>\n",
       "    </tr>\n",
       "  </thead>\n",
       "  <tbody>\n",
       "    <tr>\n",
       "      <th>0</th>\n",
       "      <td>15624510</td>\n",
       "      <td>Male</td>\n",
       "      <td>19</td>\n",
       "      <td>19000</td>\n",
       "      <td>0</td>\n",
       "    </tr>\n",
       "    <tr>\n",
       "      <th>1</th>\n",
       "      <td>15810944</td>\n",
       "      <td>Male</td>\n",
       "      <td>35</td>\n",
       "      <td>20000</td>\n",
       "      <td>0</td>\n",
       "    </tr>\n",
       "    <tr>\n",
       "      <th>2</th>\n",
       "      <td>15668575</td>\n",
       "      <td>Female</td>\n",
       "      <td>26</td>\n",
       "      <td>43000</td>\n",
       "      <td>0</td>\n",
       "    </tr>\n",
       "    <tr>\n",
       "      <th>3</th>\n",
       "      <td>15603246</td>\n",
       "      <td>Female</td>\n",
       "      <td>27</td>\n",
       "      <td>57000</td>\n",
       "      <td>0</td>\n",
       "    </tr>\n",
       "    <tr>\n",
       "      <th>4</th>\n",
       "      <td>15804002</td>\n",
       "      <td>Male</td>\n",
       "      <td>19</td>\n",
       "      <td>76000</td>\n",
       "      <td>0</td>\n",
       "    </tr>\n",
       "  </tbody>\n",
       "</table>\n",
       "</div>"
      ],
      "text/plain": [
       "    User ID  Gender  Age  EstimatedSalary  Purchased\n",
       "0  15624510    Male   19            19000          0\n",
       "1  15810944    Male   35            20000          0\n",
       "2  15668575  Female   26            43000          0\n",
       "3  15603246  Female   27            57000          0\n",
       "4  15804002    Male   19            76000          0"
      ]
     },
     "execution_count": 168,
     "metadata": {},
     "output_type": "execute_result"
    }
   ],
   "source": [
    "media_df.head()"
   ]
  },
  {
   "cell_type": "code",
   "execution_count": 169,
   "metadata": {},
   "outputs": [
    {
     "data": {
      "text/plain": [
       "<bound method DataFrame.info of       User ID  Gender  Age  EstimatedSalary  Purchased\n",
       "0    15624510    Male   19            19000          0\n",
       "1    15810944    Male   35            20000          0\n",
       "2    15668575  Female   26            43000          0\n",
       "3    15603246  Female   27            57000          0\n",
       "4    15804002    Male   19            76000          0\n",
       "..        ...     ...  ...              ...        ...\n",
       "395  15691863  Female   46            41000          1\n",
       "396  15706071    Male   51            23000          1\n",
       "397  15654296  Female   50            20000          1\n",
       "398  15755018    Male   36            33000          0\n",
       "399  15594041  Female   49            36000          1\n",
       "\n",
       "[400 rows x 5 columns]>"
      ]
     },
     "execution_count": 169,
     "metadata": {},
     "output_type": "execute_result"
    }
   ],
   "source": [
    "media_df.info"
   ]
  },
  {
   "cell_type": "code",
   "execution_count": 170,
   "metadata": {},
   "outputs": [
    {
     "data": {
      "text/html": [
       "<div>\n",
       "<style scoped>\n",
       "    .dataframe tbody tr th:only-of-type {\n",
       "        vertical-align: middle;\n",
       "    }\n",
       "\n",
       "    .dataframe tbody tr th {\n",
       "        vertical-align: top;\n",
       "    }\n",
       "\n",
       "    .dataframe thead th {\n",
       "        text-align: right;\n",
       "    }\n",
       "</style>\n",
       "<table border=\"1\" class=\"dataframe\">\n",
       "  <thead>\n",
       "    <tr style=\"text-align: right;\">\n",
       "      <th></th>\n",
       "      <th>User ID</th>\n",
       "      <th>Age</th>\n",
       "      <th>EstimatedSalary</th>\n",
       "      <th>Purchased</th>\n",
       "    </tr>\n",
       "  </thead>\n",
       "  <tbody>\n",
       "    <tr>\n",
       "      <th>count</th>\n",
       "      <td>4.000000e+02</td>\n",
       "      <td>400.000000</td>\n",
       "      <td>400.000000</td>\n",
       "      <td>400.000000</td>\n",
       "    </tr>\n",
       "    <tr>\n",
       "      <th>mean</th>\n",
       "      <td>1.569154e+07</td>\n",
       "      <td>37.655000</td>\n",
       "      <td>69742.500000</td>\n",
       "      <td>0.357500</td>\n",
       "    </tr>\n",
       "    <tr>\n",
       "      <th>std</th>\n",
       "      <td>7.165832e+04</td>\n",
       "      <td>10.482877</td>\n",
       "      <td>34096.960282</td>\n",
       "      <td>0.479864</td>\n",
       "    </tr>\n",
       "    <tr>\n",
       "      <th>min</th>\n",
       "      <td>1.556669e+07</td>\n",
       "      <td>18.000000</td>\n",
       "      <td>15000.000000</td>\n",
       "      <td>0.000000</td>\n",
       "    </tr>\n",
       "    <tr>\n",
       "      <th>25%</th>\n",
       "      <td>1.562676e+07</td>\n",
       "      <td>29.750000</td>\n",
       "      <td>43000.000000</td>\n",
       "      <td>0.000000</td>\n",
       "    </tr>\n",
       "    <tr>\n",
       "      <th>50%</th>\n",
       "      <td>1.569434e+07</td>\n",
       "      <td>37.000000</td>\n",
       "      <td>70000.000000</td>\n",
       "      <td>0.000000</td>\n",
       "    </tr>\n",
       "    <tr>\n",
       "      <th>75%</th>\n",
       "      <td>1.575036e+07</td>\n",
       "      <td>46.000000</td>\n",
       "      <td>88000.000000</td>\n",
       "      <td>1.000000</td>\n",
       "    </tr>\n",
       "    <tr>\n",
       "      <th>max</th>\n",
       "      <td>1.581524e+07</td>\n",
       "      <td>60.000000</td>\n",
       "      <td>150000.000000</td>\n",
       "      <td>1.000000</td>\n",
       "    </tr>\n",
       "  </tbody>\n",
       "</table>\n",
       "</div>"
      ],
      "text/plain": [
       "            User ID         Age  EstimatedSalary   Purchased\n",
       "count  4.000000e+02  400.000000       400.000000  400.000000\n",
       "mean   1.569154e+07   37.655000     69742.500000    0.357500\n",
       "std    7.165832e+04   10.482877     34096.960282    0.479864\n",
       "min    1.556669e+07   18.000000     15000.000000    0.000000\n",
       "25%    1.562676e+07   29.750000     43000.000000    0.000000\n",
       "50%    1.569434e+07   37.000000     70000.000000    0.000000\n",
       "75%    1.575036e+07   46.000000     88000.000000    1.000000\n",
       "max    1.581524e+07   60.000000    150000.000000    1.000000"
      ]
     },
     "execution_count": 170,
     "metadata": {},
     "output_type": "execute_result"
    }
   ],
   "source": [
    "media_df.describe()"
   ]
  },
  {
   "cell_type": "code",
   "execution_count": 171,
   "metadata": {},
   "outputs": [],
   "source": [
    "media_df_features = media_df[['Gender','Age','EstimatedSalary']]"
   ]
  },
  {
   "cell_type": "code",
   "execution_count": 172,
   "metadata": {},
   "outputs": [
    {
     "name": "stdout",
     "output_type": "stream",
     "text": [
      "                      Age  EstimatedSalary\n",
      "Age              1.000000         0.155238\n",
      "EstimatedSalary  0.155238         1.000000\n"
     ]
    },
    {
     "data": {
      "text/plain": [
       "<AxesSubplot:>"
      ]
     },
     "execution_count": 172,
     "metadata": {},
     "output_type": "execute_result"
    },
    {
     "data": {
      "image/png": "[encoded data removed]",
      "text/plain": [
       "<Figure size 432x288 with 2 Axes>"
      ]
     },
     "metadata": {
      "needs_background": "light"
     },
     "output_type": "display_data"
    }
   ],
   "source": [
    "print(media_df_features.corr())\n",
    "sns.heatmap(media_df_features.corr())"
   ]
  },
  {
   "cell_type": "code",
   "execution_count": 173,
   "metadata": {},
   "outputs": [
    {
     "data": {
      "text/plain": [
       "<AxesSubplot:>"
      ]
     },
     "execution_count": 173,
     "metadata": {},
     "output_type": "execute_result"
    },
    {
     "data": {
      "image/png": "[encoded data removed]",
      "text/plain": [
       "<Figure size 432x288 with 1 Axes>"
      ]
     },
     "metadata": {
      "needs_background": "light"
     },
     "output_type": "display_data"
    }
   ],
   "source": [
    "media_df['Purchased'].value_counts().sort_index(ascending=False).plot(kind='bar')"
   ]
  },
  {
   "cell_type": "code",
   "execution_count": 175,
   "metadata": {},
   "outputs": [
    {
     "data": {
      "text/plain": [
       "<AxesSubplot:xlabel='Gender', ylabel='Age'>"
      ]
     },
     "execution_count": 175,
     "metadata": {},
     "output_type": "execute_result"
    },
    {
     "data": {
      "image/png": "[encoded data removed]",
      "text/plain": [
       "<Figure size 432x288 with 1 Axes>"
      ]
     },
     "metadata": {
      "needs_background": "light"
     },
     "output_type": "display_data"
    }
   ],
   "source": [
    "sns.boxplot(y='Age', x='Gender', data=media_df)"
   ]
  },
  {
   "cell_type": "code",
   "execution_count": 98,
   "metadata": {},
   "outputs": [
    {
     "data": {
      "image/png": "[encoded data removed]",
      "text/plain": [
       "<Figure size 1080x360 with 1 Axes>"
      ]
     },
     "metadata": {
      "needs_background": "light"
     },
     "output_type": "display_data"
    }
   ],
   "source": [
    "plt.figure(figsize=(15,5))\n",
    "bins_size = np.arange(15000,150000+10000,1000)\n",
    "plt.hist(x=\"EstimatedSalary\", data=media_df, bins= bins_size,rwidth=0.9);\n",
    "plt.title('Salary View');\n",
    "plt.ylabel('frequency');\n",
    "plt.xlabel('Salary');"
   ]
  },
  {
   "cell_type": "code",
   "execution_count": 100,
   "metadata": {},
   "outputs": [
    {
     "data": {
      "image/png": "[encoded data removed]",
      "text/plain": [
       "<Figure size 1080x360 with 1 Axes>"
      ]
     },
     "metadata": {
      "needs_background": "light"
     },
     "output_type": "display_data"
    }
   ],
   "source": [
    "plt.figure(figsize=(15,5))\n",
    "bins_size = np.arange(18,65,2)\n",
    "plt.hist(x=\"Age\", data=media_df, bins= bins_size,rwidth=0.9);\n",
    "plt.title('Age view');\n",
    "plt.ylabel('frequency');\n",
    "plt.xlabel('Age');"
   ]
  },
  {
   "cell_type": "code",
   "execution_count": 77,
   "metadata": {},
   "outputs": [
    {
     "data": {
      "text/plain": [
       "0    257\n",
       "1    143\n",
       "Name: Purchased, dtype: int64"
      ]
     },
     "execution_count": 77,
     "metadata": {},
     "output_type": "execute_result"
    }
   ],
   "source": [
    "media_df.Purchased.value_counts()"
   ]
  },
  {
   "cell_type": "code",
   "execution_count": 78,
   "metadata": {},
   "outputs": [
    {
     "data": {
      "text/plain": [
       "Female    204\n",
       "Male      196\n",
       "Name: Gender, dtype: int64"
      ]
     },
     "execution_count": 78,
     "metadata": {},
     "output_type": "execute_result"
    }
   ],
   "source": [
    "media_df.Gender.value_counts()"
   ]
  },
  {
   "cell_type": "code",
   "execution_count": 79,
   "metadata": {},
   "outputs": [],
   "source": [
    "media_df_features = ['Age', 'EstimatedSalary', 'Purchased']"
   ]
  },
  {
   "cell_type": "code",
   "execution_count": 80,
   "metadata": {},
   "outputs": [
    {
     "data": {
      "text/plain": [
       "['Age', 'EstimatedSalary', 'Purchased']"
      ]
     },
     "execution_count": 80,
     "metadata": {},
     "output_type": "execute_result"
    }
   ],
   "source": [
    "media_df_features"
   ]
  },
  {
   "cell_type": "code",
   "execution_count": 84,
   "metadata": {},
   "outputs": [],
   "source": [
    "media_df = pd.read_csv(r\"C:\\Users\\Prof Guru Joe\\Desktop\\Social_Network_Ads_2.csv\")"
   ]
  },
  {
   "cell_type": "code",
   "execution_count": 85,
   "metadata": {},
   "outputs": [],
   "source": [
    "X = media_df.iloc[:, :-1].values"
   ]
  },
  {
   "cell_type": "code",
   "execution_count": 86,
   "metadata": {},
   "outputs": [],
   "source": [
    "y = media_df.iloc[:, -1].values"
   ]
  },
  {
   "cell_type": "code",
   "execution_count": 87,
   "metadata": {},
   "outputs": [
    {
     "data": {
      "text/plain": [
       "array([[15624510,       19,    19000],\n",
       "       [15810944,       35,    20000],\n",
       "       [15668575,       26,    43000],\n",
       "       ...,\n",
       "       [15654296,       50,    20000],\n",
       "       [15755018,       36,    33000],\n",
       "       [15594041,       49,    36000]], dtype=int64)"
      ]
     },
     "execution_count": 87,
     "metadata": {},
     "output_type": "execute_result"
    }
   ],
   "source": [
    "X"
   ]
  },
  {
   "cell_type": "code",
   "execution_count": 88,
   "metadata": {},
   "outputs": [
    {
     "data": {
      "text/plain": [
       "array([0, 0, 0, 0, 0, 0, 0, 1, 0, 0, 0, 0, 0, 0, 0, 0, 1, 1, 1, 1, 1, 1,\n",
       "       1, 1, 1, 1, 1, 1, 0, 0, 0, 1, 0, 0, 0, 0, 0, 0, 0, 0, 0, 0, 0, 0,\n",
       "       0, 0, 0, 0, 1, 0, 0, 0, 0, 0, 0, 0, 0, 0, 0, 0, 0, 0, 0, 1, 0, 0,\n",
       "       0, 0, 0, 0, 0, 0, 0, 0, 0, 1, 0, 0, 0, 0, 0, 0, 0, 0, 0, 1, 0, 0,\n",
       "       0, 0, 0, 0, 0, 0, 0, 0, 0, 1, 0, 0, 0, 0, 0, 1, 0, 0, 0, 0, 0, 0,\n",
       "       0, 0, 0, 0, 0, 0, 0, 0, 0, 0, 0, 0, 0, 0, 0, 0, 0, 0, 0, 0, 0, 0,\n",
       "       0, 0, 0, 0, 0, 1, 0, 0, 0, 0, 0, 0, 0, 0, 1, 0, 0, 0, 0, 0, 0, 0,\n",
       "       0, 0, 0, 0, 0, 1, 1, 0, 0, 0, 0, 0, 0, 0, 1, 0, 0, 0, 0, 0, 0, 0,\n",
       "       0, 0, 0, 0, 0, 0, 1, 0, 0, 0, 0, 0, 0, 0, 0, 0, 0, 0, 0, 0, 0, 0,\n",
       "       0, 0, 0, 0, 1, 0, 1, 0, 1, 0, 1, 0, 1, 1, 0, 0, 0, 1, 0, 0, 0, 1,\n",
       "       0, 1, 1, 1, 0, 0, 1, 1, 0, 1, 1, 0, 1, 1, 0, 1, 0, 0, 0, 1, 1, 0,\n",
       "       1, 1, 0, 1, 0, 1, 0, 1, 0, 0, 1, 1, 0, 1, 0, 0, 1, 1, 0, 1, 1, 0,\n",
       "       1, 1, 0, 0, 1, 0, 0, 1, 1, 1, 1, 1, 0, 1, 1, 1, 1, 0, 1, 1, 0, 1,\n",
       "       0, 1, 0, 1, 1, 1, 1, 0, 0, 0, 1, 1, 0, 1, 1, 1, 1, 1, 0, 0, 0, 1,\n",
       "       1, 0, 0, 1, 0, 1, 0, 1, 1, 0, 1, 0, 1, 1, 0, 1, 1, 0, 0, 0, 1, 1,\n",
       "       0, 1, 0, 0, 1, 0, 1, 0, 0, 1, 1, 0, 0, 1, 1, 0, 1, 1, 0, 0, 1, 0,\n",
       "       1, 0, 1, 1, 1, 0, 1, 0, 1, 1, 1, 0, 1, 1, 1, 1, 0, 1, 1, 1, 0, 1,\n",
       "       0, 1, 0, 0, 1, 1, 0, 1, 1, 1, 1, 1, 1, 0, 1, 1, 1, 1, 1, 1, 0, 1,\n",
       "       1, 1, 0, 1], dtype=int64)"
      ]
     },
     "execution_count": 88,
     "metadata": {},
     "output_type": "execute_result"
    }
   ],
   "source": [
    "y"
   ]
  },
  {
   "cell_type": "code",
   "execution_count": 89,
   "metadata": {},
   "outputs": [],
   "source": [
    "from sklearn.model_selection import train_test_split"
   ]
  },
  {
   "cell_type": "code",
   "execution_count": 90,
   "metadata": {},
   "outputs": [],
   "source": [
    "X_train, X_test, y_train, y_test = train_test_split(X, y, test_size=0.25, random_state=0)"
   ]
  },
  {
   "cell_type": "code",
   "execution_count": 91,
   "metadata": {},
   "outputs": [],
   "source": [
    "from sklearn.preprocessing import StandardScaler"
   ]
  },
  {
   "cell_type": "code",
   "execution_count": 92,
   "metadata": {},
   "outputs": [],
   "source": [
    "ss = StandardScaler()"
   ]
  },
  {
   "cell_type": "code",
   "execution_count": 94,
   "metadata": {},
   "outputs": [
    {
     "data": {
      "text/plain": [
       "array([[ 1.67009484e+00,  5.81649437e-01, -8.86706990e-01],\n",
       "       [-1.52442817e+00, -6.06737608e-01,  1.46173768e+00],\n",
       "       [ 5.96133781e-01, -1.25440855e-02, -5.67782405e-01],\n",
       "       [-1.31052773e+00, -6.06737608e-01,  1.89663484e+00],\n",
       "       [-4.01687250e-01,  1.37390747e+00, -1.40858358e+00],\n",
       "       [-1.46235626e+00,  1.47293972e+00,  9.97847375e-01],\n",
       "       [-3.29215938e-01,  8.64881682e-02, -7.99727558e-01],\n",
       "       [ 4.24988037e-01, -1.25440855e-02, -2.48857820e-01],\n",
       "       [-1.02483329e+00, -2.10608593e-01, -5.67782405e-01],\n",
       "       [ 4.80851340e-01, -2.10608593e-01, -1.90871532e-01],\n",
       "       [ 2.61617156e-01, -3.09640847e-01, -1.29261101e+00],\n",
       "       [-1.33320451e-01, -3.09640847e-01, -5.67782405e-01],\n",
       "       [-2.56490638e-01,  3.83584929e-01,  9.90599089e-02],\n",
       "       [ 6.35586622e-01,  8.78746198e-01, -5.96775549e-01],\n",
       "       [ 1.63411318e+00,  2.06713324e+00, -1.17663843e+00],\n",
       "       [-7.85858577e-01,  1.07681071e+00, -1.32885244e-01],\n",
       "       [ 1.74291892e+00,  6.80681690e-01,  1.78066227e+00],\n",
       "       [ 1.44063058e+00, -7.05769861e-01,  5.62950214e-01],\n",
       "       [-1.04190695e+00,  7.79713944e-01,  3.59998206e-01],\n",
       "       [-8.74528695e-01,  8.78746198e-01, -5.38789261e-01],\n",
       "       [ 1.66653901e+00, -1.20093113e+00, -1.58254245e+00],\n",
       "       [-1.38284383e+00,  2.16616550e+00,  9.39861087e-01],\n",
       "       [-1.02031795e+00, -1.25440855e-02,  1.22979253e+00],\n",
       "       [ 1.71296241e+00,  1.85520422e-01,  1.08482681e+00],\n",
       "       [ 1.53096573e+00,  3.83584929e-01, -4.80802973e-01],\n",
       "       [-1.05239102e+00, -3.09640847e-01, -3.06844108e-01],\n",
       "       [ 3.23717281e-01,  9.77778452e-01, -8.28720702e-01],\n",
       "       [ 1.46158461e+00,  9.77778452e-01,  1.86764170e+00],\n",
       "       [ 1.53519887e+00, -1.25440855e-02,  1.25878567e+00],\n",
       "       [ 1.38421697e+00, -9.03834369e-01,  2.27354572e+00],\n",
       "       [-1.70247519e-01, -1.20093113e+00, -1.58254245e+00],\n",
       "       [-7.87692937e-01,  2.16616550e+00, -7.99727558e-01],\n",
       "       [-1.68709479e-01, -1.39899564e+00, -1.46656987e+00],\n",
       "       [ 1.38573963e-01,  3.83584929e-01,  2.30253886e+00],\n",
       "       [-3.53344821e-01,  7.79713944e-01,  7.65902223e-01],\n",
       "       [-1.39273526e+00, -1.00286662e+00, -3.06844108e-01],\n",
       "       [-9.75474911e-01,  8.64881682e-02,  7.65902223e-01],\n",
       "       [-2.77318944e-02, -1.00286662e+00,  5.62950214e-01],\n",
       "       [ 3.06855284e-01,  2.84552676e-01,  7.00667649e-02],\n",
       "       [-1.04748058e+00,  6.80681690e-01, -1.26361786e+00],\n",
       "       [ 8.26542179e-02, -5.07705354e-01, -1.69126674e-02],\n",
       "       [ 4.61209583e-01, -1.79512465e+00,  3.59998206e-01],\n",
       "       [-1.55946443e+00, -7.05769861e-01,  1.28053053e-01],\n",
       "       [ 6.69451721e-01,  3.83584929e-01,  3.02011918e-01],\n",
       "       [ 1.07189609e+00, -3.09640847e-01,  7.00667649e-02],\n",
       "       [-2.22484435e-01, -5.07705354e-01,  2.30253886e+00],\n",
       "       [-1.66207568e+00,  1.85520422e-01,  4.10736208e-02],\n",
       "       [ 4.28177001e-01,  1.27487521e+00,  2.21555943e+00],\n",
       "       [-6.41875465e-01,  7.79713944e-01,  2.73018773e-01],\n",
       "       [-1.75242621e-01, -3.09640847e-01,  1.57046197e-01],\n",
       "       [ 2.18381443e-02, -1.25440855e-02, -5.38789261e-01],\n",
       "       [ 1.69179673e+00, -2.10608593e-01,  1.57046197e-01],\n",
       "       [ 3.13190879e-01, -1.11576339e-01,  2.44025629e-01],\n",
       "       [-1.01684677e+00, -1.25440855e-02, -2.48857820e-01],\n",
       "       [ 1.23907680e+00,  2.16616550e+00,  1.11381995e+00],\n",
       "       [-3.27536794e-01, -1.79512465e+00,  3.59998206e-01],\n",
       "       [ 5.04458136e-01,  1.86906873e+00,  1.28053053e-01],\n",
       "       [-1.14175255e+00,  3.83584929e-01, -1.32885244e-01],\n",
       "       [ 7.53027963e-01, -1.20093113e+00,  3.02011918e-01],\n",
       "       [ 7.80684460e-01,  7.79713944e-01,  1.37475825e+00],\n",
       "       [-8.72074745e-02, -3.09640847e-01, -2.48857820e-01],\n",
       "       [-7.44373831e-01, -1.69609240e+00, -4.59058115e-02],\n",
       "       [ 1.19962396e+00, -1.00286662e+00, -7.41741269e-01],\n",
       "       [-1.60732711e+00,  2.84552676e-01,  5.04963926e-01],\n",
       "       [-1.30074919e+00, -1.11576339e-01, -1.06066585e+00],\n",
       "       [ 4.67643952e-01, -1.10189888e+00,  5.91943358e-01],\n",
       "       [ 3.86154787e-02,  8.64881682e-02, -7.99727558e-01],\n",
       "       [-1.54120550e+00, -1.00286662e+00,  1.54871711e+00],\n",
       "       [-3.91951034e-01, -7.05769861e-01,  1.40375139e+00],\n",
       "       [-2.55361801e-01, -1.29996338e+00,  5.04963926e-01],\n",
       "       [-1.08494384e+00, -3.09640847e-01,  4.10736208e-02],\n",
       "       [ 8.28716459e-01, -1.11576339e-01,  1.20804767e-02],\n",
       "       [-8.91687012e-01, -3.09640847e-01, -8.86706990e-01],\n",
       "       [-1.39900031e+00,  8.78746198e-01, -1.35059730e+00],\n",
       "       [ 1.44683918e+00, -3.09640847e-01,  2.24455257e+00],\n",
       "       [ 9.91029057e-01,  9.77778452e-01,  1.98361427e+00],\n",
       "       [ 4.12401509e-01, -1.20093113e+00,  4.75970782e-01],\n",
       "       [ 1.51170495e+00, -1.29996338e+00,  2.73018773e-01],\n",
       "       [ 1.17336439e+00,  1.37390747e+00,  1.98361427e+00],\n",
       "       [ 2.02550779e-01,  1.27487521e+00, -1.35059730e+00],\n",
       "       [-1.64689283e+00, -3.09640847e-01, -2.77850964e-01],\n",
       "       [ 1.28142228e+00, -5.07705354e-01,  1.25878567e+00],\n",
       "       [-5.96215293e-02, -8.04802115e-01,  1.08482681e+00],\n",
       "       [-2.97749617e-01,  9.77778452e-01, -1.06066585e+00],\n",
       "       [ 1.37881266e+00,  2.84552676e-01,  3.02011918e-01],\n",
       "       [ 4.63100384e-01,  9.77778452e-01,  7.65902223e-01],\n",
       "       [-3.11281546e-01, -7.05769861e-01, -1.49556302e+00],\n",
       "       [ 1.17131838e+00, -7.05769861e-01,  4.10736208e-02],\n",
       "       [-1.61144736e+00,  4.82617183e-01,  1.72267598e+00],\n",
       "       [-5.00123074e-02,  2.06713324e+00,  1.86039341e-01],\n",
       "       [ 1.02270703e+00, -1.99318916e+00, -7.41741269e-01],\n",
       "       [ 1.47644292e+00, -2.10608593e-01,  1.40375139e+00],\n",
       "       [-1.47168327e+00,  3.83584929e-01,  5.91943358e-01],\n",
       "       [-8.21021838e-01,  8.78746198e-01, -1.14764529e+00],\n",
       "       [-3.26534951e-01, -1.20093113e+00, -7.70734413e-01],\n",
       "       [-1.54721655e+00,  1.85520422e-01,  2.44025629e-01],\n",
       "       [ 1.40339308e+00,  7.79713944e-01, -3.06844108e-01],\n",
       "       [ 2.24069227e-01,  2.06713324e+00, -7.99727558e-01],\n",
       "       [-1.33671674e+00,  7.79713944e-01,  1.28053053e-01],\n",
       "       [-4.02928970e-01, -3.09640847e-01,  6.20936502e-01],\n",
       "       [-1.14736851e+00, -1.00286662e+00, -3.06844108e-01],\n",
       "       [-4.39898370e-01,  1.85520422e-01, -3.64830396e-01],\n",
       "       [ 5.82347864e-01,  2.06713324e+00,  2.12857999e+00],\n",
       "       [ 1.55589905e-02,  1.86906873e+00, -1.26361786e+00],\n",
       "       [-1.11052610e+00,  1.37390747e+00, -9.15700134e-01],\n",
       "       [ 5.96260776e-01,  8.78746198e-01,  1.25878567e+00],\n",
       "       [ 1.13386922e+00,  1.47293972e+00,  2.12857999e+00],\n",
       "       [ 3.02354048e-01, -3.09640847e-01, -1.23462472e+00],\n",
       "       [-4.35312471e-01,  1.96810099e+00,  9.10867943e-01],\n",
       "       [ 8.02499228e-01,  6.80681690e-01, -7.12748125e-01],\n",
       "       [-5.24095472e-01, -1.49802789e+00,  3.59998206e-01],\n",
       "       [ 1.89032960e-01,  7.79713944e-01, -1.35059730e+00],\n",
       "       [ 1.10323542e+00,  3.83584929e-01, -1.32885244e-01],\n",
       "       [ 3.36176815e-01, -1.00286662e+00,  4.17984494e-01],\n",
       "       [ 6.28079858e-01, -1.25440855e-02, -3.06844108e-01],\n",
       "       [ 1.41648758e+00, -1.20093113e+00,  4.17984494e-01],\n",
       "       [ 1.06783101e-01, -9.03834369e-01, -1.20563157e+00],\n",
       "       [-4.44710036e-01, -1.11576339e-01,  4.10736208e-02],\n",
       "       [ 9.94951764e-01, -1.59706014e+00, -4.22816685e-01],\n",
       "       [-3.27296916e-01,  9.77778452e-01, -1.00267957e+00],\n",
       "       [ 2.24605424e-01,  1.07681071e+00, -1.20563157e+00],\n",
       "       [ 3.64665830e-01, -1.25440855e-02, -1.32885244e-01],\n",
       "       [ 1.02586778e+00, -1.10189888e+00, -1.52455616e+00],\n",
       "       [ 1.81554417e-01,  7.79713944e-01, -1.20563157e+00],\n",
       "       [-7.48846846e-01,  9.77778452e-01,  2.07059371e+00],\n",
       "       [-5.16348831e-01, -1.20093113e+00, -1.52455616e+00],\n",
       "       [ 8.66179725e-01, -3.09640847e-01,  7.94895367e-01],\n",
       "       [ 9.30100099e-01,  8.64881682e-02, -3.06844108e-01],\n",
       "       [ 4.88809638e-01, -1.39899564e+00, -1.23462472e+00],\n",
       "       [ 1.87255042e-01, -6.06737608e-01, -1.49556302e+00],\n",
       "       [-2.88803587e-01,  7.79713944e-01,  5.33957070e-01],\n",
       "       [-4.87563497e-01, -3.09640847e-01, -3.35837252e-01],\n",
       "       [ 1.17989754e+00,  1.77003648e+00, -2.77850964e-01],\n",
       "       [-2.73550182e-01,  8.78746198e-01, -1.03167271e+00],\n",
       "       [ 1.29331754e-03,  1.85520422e-01,  7.00667649e-02],\n",
       "       [ 7.41683155e-01, -6.06737608e-01,  8.81874799e-01],\n",
       "       [-2.76922581e-01, -1.89415691e+00, -1.40858358e+00],\n",
       "       [-2.97693175e-01, -1.29996338e+00,  5.91943358e-01],\n",
       "       [ 2.75177306e-01, -3.09640847e-01,  5.33957070e-01],\n",
       "       [ 3.30800731e-01, -1.00286662e+00, -1.08965900e+00],\n",
       "       [-5.28018180e-01,  1.17584296e+00, -1.43757673e+00],\n",
       "       [-6.91290288e-01,  1.85520422e-01, -3.06844108e-01],\n",
       "       [ 4.57808962e-01,  1.17584296e+00, -7.41741269e-01],\n",
       "       [-2.47078963e-01, -3.09640847e-01,  7.00667649e-02],\n",
       "       [ 1.54049029e+00,  1.85520422e-01,  2.09958685e+00],\n",
       "       [-6.43794487e-01,  7.79713944e-01, -1.08965900e+00],\n",
       "       [-3.71109888e-01,  8.64881682e-02,  4.10736208e-02],\n",
       "       [ 1.07457708e+00, -1.79512465e+00,  1.28053053e-01],\n",
       "       [-1.26067549e+00, -9.03834369e-01,  1.57046197e-01],\n",
       "       [ 1.06261014e-01, -7.05769861e-01,  1.86039341e-01],\n",
       "       [ 5.94990834e-01,  8.78746198e-01, -1.29261101e+00],\n",
       "       [-1.53210425e+00,  1.85520422e-01, -2.48857820e-01],\n",
       "       [-5.60655669e-01, -4.08673100e-01,  1.22979253e+00],\n",
       "       [ 8.86229416e-02, -1.25440855e-02,  3.02011918e-01],\n",
       "       [ 1.31867389e+00,  3.83584929e-01,  1.57046197e-01],\n",
       "       [ 1.05676968e+00,  8.78746198e-01, -6.54761837e-01],\n",
       "       [-1.36807018e+00,  8.64881682e-02,  1.57046197e-01],\n",
       "       [ 6.96741346e-01, -1.89415691e+00, -1.29261101e+00],\n",
       "       [ 8.77072998e-01, -1.11576339e-01,  3.02011918e-01],\n",
       "       [-9.62535621e-01, -2.10608593e-01, -2.77850964e-01],\n",
       "       [ 5.49907921e-01,  2.84552676e-01, -5.09796117e-01],\n",
       "       [-1.33986338e+00, -2.10608593e-01,  1.60670340e+00],\n",
       "       [-9.96668818e-01,  9.77778452e-01, -1.17663843e+00],\n",
       "       [ 1.46054043e+00, -2.10608593e-01,  1.63569655e+00],\n",
       "       [-1.23853618e+00,  1.27487521e+00,  1.86764170e+00],\n",
       "       [-1.24835706e+00, -1.10189888e+00, -3.64830396e-01],\n",
       "       [ 6.01044221e-01, -1.25440855e-02,  4.10736208e-02],\n",
       "       [ 7.48370242e-02,  8.64881682e-02, -2.48857820e-01],\n",
       "       [ 1.16358585e+00, -1.59706014e+00, -1.23462472e+00],\n",
       "       [ 9.50334496e-01, -5.07705354e-01, -2.77850964e-01],\n",
       "       [-1.90707683e-01,  9.77778452e-01,  1.28053053e-01],\n",
       "       [ 8.13674711e-01,  1.96810099e+00, -1.35059730e+00],\n",
       "       [-6.31871150e-01,  1.47293972e+00,  7.00667649e-02],\n",
       "       [ 3.62872532e-02, -6.06737608e-01,  1.37475825e+00],\n",
       "       [ 1.22269455e+00,  1.57197197e+00,  1.20804767e-02],\n",
       "       [-1.35177260e+00, -8.04802115e-01,  3.02011918e-01],\n",
       "       [-1.72253899e+00,  1.96810099e+00,  7.36909079e-01],\n",
       "       [-1.20563059e+00, -1.20093113e+00, -5.09796117e-01],\n",
       "       [-2.24713887e-01,  6.80681690e-01,  2.73018773e-01],\n",
       "       [ 4.55719345e-02, -1.39899564e+00, -4.22816685e-01],\n",
       "       [ 4.21559196e-01,  1.85520422e-01,  1.57046197e-01],\n",
       "       [-2.15656243e-02, -5.07705354e-01, -1.20563157e+00],\n",
       "       [ 3.37319762e-01,  5.81649437e-01,  2.01260742e+00],\n",
       "       [-6.89032615e-01, -1.59706014e+00, -1.49556302e+00],\n",
       "       [-1.40824265e+00, -5.07705354e-01, -5.38789261e-01],\n",
       "       [-1.54711905e-01,  4.82617183e-01,  1.83864855e+00],\n",
       "       [ 3.77970722e-02, -1.39899564e+00, -1.08965900e+00],\n",
       "       [ 8.05376492e-02,  7.79713944e-01, -1.37959044e+00],\n",
       "       [-9.67320336e-02, -3.09640847e-01, -4.22816685e-01],\n",
       "       [-3.42874861e-01,  1.57197197e+00,  9.97847375e-01],\n",
       "       [-1.43928566e+00,  9.77778452e-01,  1.43274454e+00],\n",
       "       [-1.65672782e+00, -3.09640847e-01, -4.80802973e-01],\n",
       "       [ 4.46265338e-02, -1.11576339e-01,  2.15757314e+00],\n",
       "       [-1.36280698e+00, -1.49802789e+00, -1.03892100e-01],\n",
       "       [ 4.09607638e-01, -1.11576339e-01,  1.95462113e+00],\n",
       "       [-2.33264824e-01, -7.05769861e-01, -3.35837252e-01],\n",
       "       [-1.70253037e+00, -5.07705354e-01, -8.28720702e-01],\n",
       "       [-1.30712711e+00,  6.80681690e-01, -1.37959044e+00],\n",
       "       [ 1.41516120e+00, -8.04802115e-01, -1.58254245e+00],\n",
       "       [-9.48312279e-01, -1.89415691e+00, -1.46656987e+00],\n",
       "       [ 2.32535502e-01,  1.07681071e+00,  1.28053053e-01],\n",
       "       [-3.66255890e-01,  8.64881682e-02,  1.51972397e+00],\n",
       "       [-1.63712839e+00, -3.09640847e-01,  9.90599089e-02],\n",
       "       [-9.10072938e-01,  8.64881682e-02,  4.10736208e-02],\n",
       "       [-1.51831834e+00, -1.39899564e+00, -1.35059730e+00],\n",
       "       [-1.15817712e+00,  2.84552676e-01,  7.00667649e-02],\n",
       "       [ 1.34439725e+00, -9.03834369e-01,  3.88991350e-01],\n",
       "       [-9.44855217e-01,  1.57197197e+00, -1.26361786e+00],\n",
       "       [ 2.50103022e-01, -3.09640847e-01, -7.41741269e-01],\n",
       "       [-1.41721691e+00, -1.11576339e-01,  1.57046197e-01],\n",
       "       [-1.57945895e+00, -9.03834369e-01, -6.54761837e-01],\n",
       "       [-1.36014010e+00, -7.05769861e-01, -4.59058115e-02],\n",
       "       [ 1.35225678e+00,  3.83584929e-01, -4.51809829e-01],\n",
       "       [ 5.07689431e-01, -8.04802115e-01,  1.89663484e+00],\n",
       "       [ 1.45125575e+00,  1.37390747e+00,  1.28777882e+00],\n",
       "       [ 9.59054759e-01,  1.17584296e+00, -9.73686422e-01],\n",
       "       [-8.98884615e-02,  1.77003648e+00,  1.83864855e+00],\n",
       "       [ 1.24377558e+00, -9.03834369e-01, -2.48857820e-01],\n",
       "       [ 1.28846340e+00, -8.04802115e-01,  5.62950214e-01],\n",
       "       [-8.66430562e-02, -1.20093113e+00, -1.55354930e+00],\n",
       "       [ 1.54552772e+00, -5.07705354e-01, -1.11865214e+00],\n",
       "       [-2.86856344e-01,  2.84552676e-01,  7.00667649e-02],\n",
       "       [ 8.93215362e-01, -2.10608593e-01, -1.06066585e+00],\n",
       "       [-2.66621947e-01,  1.67100423e+00,  1.60670340e+00],\n",
       "       [-1.64343577e+00,  9.77778452e-01,  1.78066227e+00],\n",
       "       [ 1.65982243e+00,  2.84552676e-01,  4.10736208e-02],\n",
       "       [ 1.50900986e+00, -8.04802115e-01, -2.19864676e-01],\n",
       "       [ 6.96106376e-01, -1.11576339e-01,  7.00667649e-02],\n",
       "       [ 3.53673783e-01,  2.84552676e-01, -1.90871532e-01],\n",
       "       [-1.65578242e+00,  1.96810099e+00, -6.54761837e-01],\n",
       "       [-7.80143842e-01, -8.04802115e-01,  1.34576510e+00],\n",
       "       [ 2.50596888e-01, -1.79512465e+00, -5.96775549e-01],\n",
       "       [-1.55827915e+00, -1.11576339e-01,  1.28053053e-01],\n",
       "       [ 1.44570907e-01,  2.84552676e-01, -3.06844108e-01],\n",
       "       [-1.34323578e+00,  1.07681071e+00,  5.62950214e-01],\n",
       "       [ 1.63349232e+00, -1.00286662e+00,  2.73018773e-01],\n",
       "       [-1.13624947e+00,  1.47293972e+00,  3.59998206e-01],\n",
       "       [ 1.45022569e+00,  1.85520422e-01, -3.64830396e-01],\n",
       "       [-1.20283672e+00,  2.16616550e+00, -1.03167271e+00],\n",
       "       [ 1.14409930e+00, -3.09640847e-01,  1.11381995e+00],\n",
       "       [ 1.55132712e+00, -1.69609240e+00,  7.00667649e-02],\n",
       "       [ 1.24211054e+00, -1.25440855e-02,  4.10736208e-02],\n",
       "       [-1.44303904e+00,  8.64881682e-02,  1.05583366e+00],\n",
       "       [ 8.27136088e-01, -1.11576339e-01, -3.64830396e-01],\n",
       "       [-2.81508480e-01, -1.20093113e+00,  7.00667649e-02],\n",
       "       [-2.83074741e-01, -3.09640847e-01, -1.35059730e+00],\n",
       "       [ 1.07852801e+00,  1.57197197e+00,  1.11381995e+00],\n",
       "       [ 4.38011990e-01, -8.04802115e-01, -1.52455616e+00],\n",
       "       [-1.48102440e+00,  8.64881682e-02,  1.86764170e+00],\n",
       "       [ 7.45210769e-01, -9.03834369e-01, -7.70734413e-01],\n",
       "       [-1.24732699e+00, -5.07705354e-01, -7.70734413e-01],\n",
       "       [ 9.32992743e-01, -3.09640847e-01, -9.15700134e-01],\n",
       "       [-1.62972040e+00,  2.84552676e-01, -7.12748125e-01],\n",
       "       [-1.47765200e+00,  2.84552676e-01,  7.00667649e-02],\n",
       "       [ 6.18498857e-01,  8.64881682e-02,  1.86764170e+00],\n",
       "       [ 5.26851433e-01, -1.10189888e+00,  1.95462113e+00],\n",
       "       [-1.66876404e+00, -1.69609240e+00, -1.55354930e+00],\n",
       "       [ 7.55130421e-01, -1.20093113e+00, -1.08965900e+00],\n",
       "       [ 1.73699252e+00, -7.05769861e-01, -1.03892100e-01],\n",
       "       [-8.72468568e-01,  8.64881682e-02,  9.90599089e-02],\n",
       "       [-5.93321379e-01,  2.84552676e-01,  2.73018773e-01],\n",
       "       [ 1.07741328e+00,  8.78746198e-01, -5.67782405e-01],\n",
       "       [ 8.10132986e-01,  2.84552676e-01, -1.14764529e+00],\n",
       "       [ 5.98913542e-01, -1.11576339e-01,  6.78922791e-01],\n",
       "       [-1.13287707e+00,  2.16616550e+00, -6.83754981e-01],\n",
       "       [-1.37068062e+00, -1.29996338e+00, -1.37959044e+00],\n",
       "       [ 9.18642407e-01, -1.00286662e+00, -9.44693278e-01],\n",
       "       [ 1.68032493e+00, -1.25440855e-02, -4.22816685e-01],\n",
       "       [-1.27228839e+00, -2.10608593e-01, -4.51809829e-01],\n",
       "       [-1.61894128e-01, -1.79512465e+00, -9.73686422e-01],\n",
       "       [ 1.09891762e+00,  1.77003648e+00,  9.97847375e-01],\n",
       "       [-3.49846698e-02,  1.85520422e-01, -3.64830396e-01],\n",
       "       [ 1.54678355e+00,  3.83584929e-01,  1.11381995e+00],\n",
       "       [-1.36149471e+00, -1.79512465e+00, -1.35059730e+00],\n",
       "       [-1.47509800e+00,  1.85520422e-01, -1.32885244e-01],\n",
       "       [-8.54491845e-01,  8.78746198e-01, -1.43757673e+00],\n",
       "       [-1.59417616e+00, -1.99318916e+00,  4.75970782e-01],\n",
       "       [-1.11827274e+00, -3.09640847e-01,  2.73018773e-01],\n",
       "       [ 1.62530825e+00,  1.86906873e+00, -1.06066585e+00],\n",
       "       [-6.69122759e-01, -4.08673100e-01,  7.00667649e-02],\n",
       "       [ 4.57653747e-01,  1.07681071e+00, -8.86706990e-01],\n",
       "       [ 1.28531677e+00, -1.10189888e+00, -1.11865214e+00],\n",
       "       [-4.06597689e-01, -1.89415691e+00,  1.20804767e-02],\n",
       "       [ 7.81446425e-01,  8.64881682e-02,  2.73018773e-01],\n",
       "       [ 1.08791146e+00, -1.20093113e+00,  3.31005062e-01],\n",
       "       [ 9.20222779e-01, -1.29996338e+00,  3.02011918e-01],\n",
       "       [-8.43866670e-01, -1.00286662e+00,  4.46977638e-01],\n",
       "       [-9.35824524e-01,  1.67100423e+00, -8.86706990e-01],\n",
       "       [ 1.25379400e+00,  1.17584296e+00,  5.33957070e-01],\n",
       "       [ 1.02847821e+00,  1.07681071e+00,  5.33957070e-01],\n",
       "       [ 6.23141198e-01,  1.37390747e+00,  2.33153200e+00],\n",
       "       [ 5.02256905e-01, -3.09640847e-01, -1.32885244e-01],\n",
       "       [ 2.46462524e-01,  3.83584929e-01, -4.51809829e-01],\n",
       "       [-3.38288963e-01, -4.08673100e-01, -7.70734413e-01],\n",
       "       [ 4.46689922e-01, -1.11576339e-01, -5.09796117e-01],\n",
       "       [-1.01949954e+00,  9.77778452e-01, -1.14764529e+00],\n",
       "       [ 1.23981054e+00, -9.03834369e-01, -7.70734413e-01],\n",
       "       [-1.41504390e+00, -2.10608593e-01, -5.09796117e-01],\n",
       "       [ 1.19419143e+00, -1.10189888e+00, -4.51809829e-01],\n",
       "       [ 1.45259625e+00, -1.20093113e+00,  1.40375139e+00]])"
      ]
     },
     "execution_count": 94,
     "metadata": {},
     "output_type": "execute_result"
    }
   ],
   "source": [
    "X_train = ss.fit_transform(X_train)\n",
    "X_train"
   ]
  },
  {
   "cell_type": "code",
   "execution_count": 106,
   "metadata": {},
   "outputs": [
    {
     "data": {
      "text/plain": [
       "array([[ 4.78960539e-01, -8.04802115e-01,  5.04963926e-01],\n",
       "       [-5.54771608e-01, -1.25440855e-02, -5.67782405e-01],\n",
       "       [ 1.20119022e+00, -3.09640847e-01,  1.57046197e-01],\n",
       "       [ 6.59405075e-01, -8.04802115e-01,  2.73018773e-01],\n",
       "       [-7.57919871e-01, -3.09640847e-01, -5.67782405e-01],\n",
       "       [ 1.72553483e+00, -1.10189888e+00, -1.43757673e+00],\n",
       "       [-1.15107956e+00, -7.05769861e-01, -1.58254245e+00],\n",
       "       [-1.57040131e-01, -2.10608593e-01,  2.15757314e+00],\n",
       "       [-3.60879806e-01, -1.99318916e+00, -4.59058115e-02],\n",
       "       [-9.76984730e-01,  8.78746198e-01, -7.70734413e-01],\n",
       "       [-3.23319037e-02, -8.04802115e-01, -5.96775549e-01],\n",
       "       [ 1.52879272e+00, -1.00286662e+00, -4.22816685e-01],\n",
       "       [ 1.15325699e+00, -1.11576339e-01, -4.22816685e-01],\n",
       "       [-1.58748780e+00,  8.64881682e-02,  2.15032485e-01],\n",
       "       [ 7.67928607e-01, -1.79512465e+00,  4.75970782e-01],\n",
       "       [ 1.37425498e+00, -6.06737608e-01,  1.37475825e+00],\n",
       "       [ 9.71556625e-01, -1.11576339e-01,  2.15032485e-01],\n",
       "       [ 1.63953159e+00, -1.89415691e+00,  4.46977638e-01],\n",
       "       [-5.28949470e-01,  1.67100423e+00,  1.75166912e+00],\n",
       "       [ 2.32987036e-01, -3.09640847e-01, -1.37959044e+00],\n",
       "       [-1.15795135e+00, -3.09640847e-01, -6.54761837e-01],\n",
       "       [ 7.68831676e-01,  8.78746198e-01,  2.15757314e+00],\n",
       "       [-1.91173328e-01,  2.84552676e-01, -5.38789261e-01],\n",
       "       [ 5.38901764e-01,  8.78746198e-01,  1.02684052e+00],\n",
       "       [-1.09068680e+00, -1.49802789e+00, -1.20563157e+00],\n",
       "       [ 8.76889563e-01,  1.07681071e+00,  2.07059371e+00],\n",
       "       [-3.45019651e-01, -1.00286662e+00,  5.04963926e-01],\n",
       "       [ 8.42345892e-02, -9.03834369e-01,  3.02011918e-01],\n",
       "       [-8.55747675e-01, -1.11576339e-01, -2.19864676e-01],\n",
       "       [-1.51223673e+00, -6.06737608e-01,  4.75970782e-01],\n",
       "       [-1.47741212e+00, -1.69609240e+00,  5.33957070e-01],\n",
       "       [-7.63705158e-01, -1.11576339e-01,  2.73018773e-01],\n",
       "       [ 1.73328147e+00,  1.86906873e+00, -2.77850964e-01],\n",
       "       [-9.81316640e-01, -1.11576339e-01, -4.80802973e-01],\n",
       "       [ 3.71876274e-01, -1.39899564e+00, -3.35837252e-01],\n",
       "       [ 7.76366660e-01, -1.99318916e+00, -5.09796117e-01],\n",
       "       [-9.75786611e-02, -1.59706014e+00,  3.31005062e-01],\n",
       "       [-1.55303006e+00, -4.08673100e-01, -7.70734413e-01],\n",
       "       [-2.58917637e-01, -7.05769861e-01, -1.03167271e+00],\n",
       "       [-1.37824382e+00,  1.07681071e+00, -9.73686422e-01],\n",
       "       [ 1.05225433e+00, -1.10189888e+00,  5.33957070e-01],\n",
       "       [-2.45315155e-01,  2.84552676e-01, -5.09796117e-01],\n",
       "       [-1.32175966e+00, -1.10189888e+00,  4.17984494e-01],\n",
       "       [ 1.68235683e+00, -3.09640847e-01, -1.43757673e+00],\n",
       "       [ 1.91643395e-01,  4.82617183e-01,  1.22979253e+00],\n",
       "       [-5.19481353e-01, -1.10189888e+00, -3.35837252e-01],\n",
       "       [ 1.44171708e+00, -1.11576339e-01,  3.02011918e-01],\n",
       "       [ 8.23199270e-01,  1.37390747e+00,  5.91943358e-01],\n",
       "       [ 1.00027141e+00, -1.20093113e+00, -1.14764529e+00],\n",
       "       [-1.09397454e+00,  1.07681071e+00,  4.75970782e-01],\n",
       "       [ 1.18349570e+00,  1.86906873e+00,  1.51972397e+00],\n",
       "       [-9.71975517e-01, -4.08673100e-01, -1.29261101e+00],\n",
       "       [-1.76419307e+00, -3.09640847e-01, -3.64830396e-01],\n",
       "       [-1.70432239e+00, -4.08673100e-01,  1.31677196e+00],\n",
       "       [-1.15772559e+00,  2.06713324e+00,  5.33957070e-01],\n",
       "       [ 7.12403955e-01,  6.80681690e-01, -1.08965900e+00],\n",
       "       [ 7.50713848e-01, -9.03834369e-01,  3.88991350e-01],\n",
       "       [-1.70662240e+00, -1.20093113e+00,  3.02011918e-01],\n",
       "       [ 1.42659067e+00,  1.07681071e+00, -1.20563157e+00],\n",
       "       [-7.39943147e-01, -1.49802789e+00, -1.43757673e+00],\n",
       "       [-1.39466839e+00, -6.06737608e-01, -1.49556302e+00],\n",
       "       [ 1.40620106e+00,  2.16616550e+00, -7.99727558e-01],\n",
       "       [ 1.58440203e+00, -1.89415691e+00,  1.86039341e-01],\n",
       "       [ 1.11510104e-01, -2.10608593e-01,  8.52881655e-01],\n",
       "       [-4.18365811e-01, -1.89415691e+00, -1.26361786e+00],\n",
       "       [ 1.17155826e+00,  2.16616550e+00,  3.88991350e-01],\n",
       "       [ 7.71921866e-01, -1.39899564e+00,  5.62950214e-01],\n",
       "       [ 5.22886394e-01, -1.10189888e+00, -3.35837252e-01],\n",
       "       [-1.21899319e+00,  1.85520422e-01, -6.54761837e-01],\n",
       "       [ 3.69364612e-01,  3.83584929e-01,  1.20804767e-02],\n",
       "       [ 4.39210109e-02, -6.06737608e-01,  2.33153200e+00],\n",
       "       [ 1.68564457e+00, -3.09640847e-01,  2.15032485e-01],\n",
       "       [-1.61618847e+00, -1.59706014e+00, -1.90871532e-01],\n",
       "       [-5.95875372e-01,  6.80681690e-01, -1.37959044e+00],\n",
       "       [ 1.38489427e+00, -1.10189888e+00,  5.62950214e-01],\n",
       "       [-8.85351416e-01, -1.99318916e+00,  3.59998206e-01],\n",
       "       [ 1.08053169e+00,  3.83584929e-01,  2.73018773e-01],\n",
       "       [-1.32139279e+00,  1.85520422e-01, -2.77850964e-01],\n",
       "       [ 1.22921359e+00,  1.47293972e+00, -1.03167271e+00],\n",
       "       [-7.35724120e-01,  8.78746198e-01,  1.08482681e+00],\n",
       "       [-3.78292111e-01,  1.96810099e+00,  2.15757314e+00],\n",
       "       [-1.22360731e+00,  2.06713324e+00,  3.88991350e-01],\n",
       "       [-6.00828143e-01, -1.39899564e+00, -4.22816685e-01],\n",
       "       [ 2.04159371e-01, -1.20093113e+00, -1.00267957e+00],\n",
       "       [ 6.30464525e-01,  1.96810099e+00, -9.15700134e-01],\n",
       "       [ 4.13304578e-01,  3.83584929e-01,  3.02011918e-01],\n",
       "       [ 4.61505902e-01,  1.85520422e-01,  1.57046197e-01],\n",
       "       [ 2.40931224e-01,  2.06713324e+00,  1.75166912e+00],\n",
       "       [ 2.06939272e-03,  7.79713944e-01, -8.28720702e-01],\n",
       "       [ 5.59149001e-02,  2.84552676e-01, -2.77850964e-01],\n",
       "       [-1.12295869e-01,  3.83584929e-01, -1.61878388e-01],\n",
       "       [-1.51541158e+00, -1.11576339e-01,  2.21555943e+00],\n",
       "       [ 1.18310061e+00, -1.49802789e+00, -6.25768693e-01],\n",
       "       [-1.28604609e+00, -1.29996338e+00, -1.06066585e+00],\n",
       "       [ 5.46521411e-01, -1.39899564e+00,  4.17984494e-01],\n",
       "       [ 8.34247759e-01, -1.10189888e+00,  7.65902223e-01],\n",
       "       [-1.60450501e+00, -1.49802789e+00, -1.90871532e-01],\n",
       "       [ 1.63851564e+00,  9.77778452e-01, -1.06066585e+00],\n",
       "       [-1.28881174e+00,  9.77778452e-01,  5.91943358e-01],\n",
       "       [-5.25760506e-01,  3.83584929e-01,  9.97847375e-01]])"
      ]
     },
     "execution_count": 106,
     "metadata": {},
     "output_type": "execute_result"
    }
   ],
   "source": [
    "X_test = ss.transform(X_test)\n",
    "X_test"
   ]
  },
  {
   "cell_type": "code",
   "execution_count": null,
   "metadata": {},
   "outputs": [],
   "source": [
    "#using svm model"
   ]
  },
  {
   "cell_type": "code",
   "execution_count": 107,
   "metadata": {},
   "outputs": [],
   "source": [
    "from sklearn.svm import SVC"
   ]
  },
  {
   "cell_type": "code",
   "execution_count": 108,
   "metadata": {},
   "outputs": [],
   "source": [
    "classifier = SVC(kernel='linear', random_state= 0)"
   ]
  },
  {
   "cell_type": "code",
   "execution_count": 109,
   "metadata": {},
   "outputs": [
    {
     "data": {
      "text/plain": [
       "SVC(kernel='linear', random_state=0)"
      ]
     },
     "execution_count": 109,
     "metadata": {},
     "output_type": "execute_result"
    }
   ],
   "source": [
    "classifier.fit(X_train, y_train)"
   ]
  },
  {
   "cell_type": "code",
   "execution_count": 115,
   "metadata": {},
   "outputs": [
    {
     "name": "stdout",
     "output_type": "stream",
     "text": [
      "[1]\n"
     ]
    }
   ],
   "source": [
    "print(classifier.predict(ss.transform([[0, 40, 75000]])))"
   ]
  },
  {
   "cell_type": "code",
   "execution_count": 116,
   "metadata": {},
   "outputs": [
    {
     "data": {
      "text/plain": [
       "array([0, 0, 0, 0, 0, 0, 0, 1, 0, 1, 0, 0, 0, 0, 0, 0, 0, 0, 1, 0, 0, 1,\n",
       "       0, 1, 0, 1, 0, 0, 0, 0, 0, 0, 1, 0, 0, 0, 0, 0, 0, 1, 0, 0, 0, 0,\n",
       "       1, 0, 0, 1, 0, 1, 1, 0, 0, 1, 1, 0, 0, 0, 0, 0, 0, 1, 0, 0, 0, 1,\n",
       "       0, 0, 0, 0, 1, 0, 0, 0, 0, 0, 0, 0, 1, 1, 1, 1, 0, 0, 1, 1, 0, 1,\n",
       "       0, 0, 0, 1, 0, 0, 0, 0, 0, 0, 1, 1], dtype=int64)"
      ]
     },
     "execution_count": 116,
     "metadata": {},
     "output_type": "execute_result"
    }
   ],
   "source": [
    "y_pred = classifier.predict(X_test)\n",
    "y_pred"
   ]
  },
  {
   "cell_type": "code",
   "execution_count": 117,
   "metadata": {},
   "outputs": [
    {
     "data": {
      "text/plain": [
       "array([0, 0, 0, 0, 0, 0, 0, 1, 0, 0, 0, 0, 0, 0, 0, 0, 0, 0, 1, 0, 0, 1,\n",
       "       0, 1, 0, 1, 0, 0, 0, 0, 0, 1, 1, 0, 0, 0, 0, 0, 0, 1, 0, 0, 0, 0,\n",
       "       1, 0, 0, 1, 0, 1, 1, 0, 0, 0, 1, 1, 0, 0, 1, 0, 0, 1, 0, 1, 0, 1,\n",
       "       0, 0, 0, 0, 1, 0, 0, 1, 0, 0, 0, 0, 1, 1, 1, 0, 0, 0, 1, 1, 0, 1,\n",
       "       1, 0, 0, 1, 0, 0, 0, 1, 0, 1, 1, 1], dtype=int64)"
      ]
     },
     "execution_count": 117,
     "metadata": {},
     "output_type": "execute_result"
    }
   ],
   "source": [
    "y_test"
   ]
  },
  {
   "cell_type": "code",
   "execution_count": 118,
   "metadata": {},
   "outputs": [
    {
     "name": "stdout",
     "output_type": "stream",
     "text": [
      "[[0 0]\n",
      " [0 0]\n",
      " [0 0]\n",
      " [0 0]\n",
      " [0 0]\n",
      " [0 0]\n",
      " [0 0]\n",
      " [1 1]\n",
      " [0 0]\n",
      " [1 0]\n",
      " [0 0]\n",
      " [0 0]\n",
      " [0 0]\n",
      " [0 0]\n",
      " [0 0]\n",
      " [0 0]\n",
      " [0 0]\n",
      " [0 0]\n",
      " [1 1]\n",
      " [0 0]\n",
      " [0 0]\n",
      " [1 1]\n",
      " [0 0]\n",
      " [1 1]\n",
      " [0 0]\n",
      " [1 1]\n",
      " [0 0]\n",
      " [0 0]\n",
      " [0 0]\n",
      " [0 0]\n",
      " [0 0]\n",
      " [0 1]\n",
      " [1 1]\n",
      " [0 0]\n",
      " [0 0]\n",
      " [0 0]\n",
      " [0 0]\n",
      " [0 0]\n",
      " [0 0]\n",
      " [1 1]\n",
      " [0 0]\n",
      " [0 0]\n",
      " [0 0]\n",
      " [0 0]\n",
      " [1 1]\n",
      " [0 0]\n",
      " [0 0]\n",
      " [1 1]\n",
      " [0 0]\n",
      " [1 1]\n",
      " [1 1]\n",
      " [0 0]\n",
      " [0 0]\n",
      " [1 0]\n",
      " [1 1]\n",
      " [0 1]\n",
      " [0 0]\n",
      " [0 0]\n",
      " [0 1]\n",
      " [0 0]\n",
      " [0 0]\n",
      " [1 1]\n",
      " [0 0]\n",
      " [0 1]\n",
      " [0 0]\n",
      " [1 1]\n",
      " [0 0]\n",
      " [0 0]\n",
      " [0 0]\n",
      " [0 0]\n",
      " [1 1]\n",
      " [0 0]\n",
      " [0 0]\n",
      " [0 1]\n",
      " [0 0]\n",
      " [0 0]\n",
      " [0 0]\n",
      " [0 0]\n",
      " [1 1]\n",
      " [1 1]\n",
      " [1 1]\n",
      " [1 0]\n",
      " [0 0]\n",
      " [0 0]\n",
      " [1 1]\n",
      " [1 1]\n",
      " [0 0]\n",
      " [1 1]\n",
      " [0 1]\n",
      " [0 0]\n",
      " [0 0]\n",
      " [1 1]\n",
      " [0 0]\n",
      " [0 0]\n",
      " [0 0]\n",
      " [0 1]\n",
      " [0 0]\n",
      " [0 1]\n",
      " [1 1]\n",
      " [1 1]]\n"
     ]
    }
   ],
   "source": [
    "print(np.concatenate((y_pred.reshape(len(y_pred),1), y_test.reshape(len(y_test),1)),1))"
   ]
  },
  {
   "cell_type": "code",
   "execution_count": 127,
   "metadata": {},
   "outputs": [
    {
     "name": "stdout",
     "output_type": "stream",
     "text": [
      "[[65  3]\n",
      " [ 8 24]]\n",
      "0.81\n",
      "0.89\n"
     ]
    }
   ],
   "source": [
    "from sklearn.metrics import accuracy_score, confusion_matrix\n",
    "cm = confusion_matrix(y_test, y_pred)\n",
    "print(cm)\n",
    "print(classifier.score(X_train, y_train))\n",
    "print(classifier.score(X_test, y_test))"
   ]
  },
  {
   "cell_type": "code",
   "execution_count": 137,
   "metadata": {},
   "outputs": [],
   "source": [
    "#using K nearest neighbor"
   ]
  },
  {
   "cell_type": "code",
   "execution_count": 138,
   "metadata": {},
   "outputs": [],
   "source": [
    "from sklearn.neighbors import KNeighborsClassifier"
   ]
  },
  {
   "cell_type": "code",
   "execution_count": 139,
   "metadata": {},
   "outputs": [],
   "source": [
    "knn = KNeighborsClassifier(n_neighbors = 6, metric = 'minkowski', p = 2)"
   ]
  },
  {
   "cell_type": "code",
   "execution_count": 140,
   "metadata": {},
   "outputs": [
    {
     "data": {
      "text/plain": [
       "KNeighborsClassifier(n_neighbors=6)"
      ]
     },
     "execution_count": 140,
     "metadata": {},
     "output_type": "execute_result"
    }
   ],
   "source": [
    "knn.fit(X_train, y_train)"
   ]
  },
  {
   "cell_type": "code",
   "execution_count": 141,
   "metadata": {},
   "outputs": [
    {
     "name": "stdout",
     "output_type": "stream",
     "text": [
      "[0 0 0 1 1 0 0 0 0 0 0 0 0 0 1 0 1 1 0 0 1 0 0 0 1 0 1 1 1 0 0 0 0 0 0 0 1\n",
      " 0 0 0 1 0 1 0 0 1 0 1 1 0 0 0 1 0 1 0 1 0 0 0 1 0 0 0 0 0 1 0 1 0 0 0 1 1\n",
      " 1 1 0 1 1 0]\n"
     ]
    }
   ],
   "source": [
    "print(y_test )"
   ]
  },
  {
   "cell_type": "code",
   "execution_count": 142,
   "metadata": {},
   "outputs": [],
   "source": [
    "y_pred = knn.predict(X_test)"
   ]
  },
  {
   "cell_type": "code",
   "execution_count": 143,
   "metadata": {},
   "outputs": [
    {
     "name": "stdout",
     "output_type": "stream",
     "text": [
      "[1 0 0 1 1 0 0 0 0 0 0 0 0 0 1 0 0 1 0 1 1 0 0 1 1 0 1 1 0 0 0 1 0 0 0 0 0\n",
      " 0 0 0 1 0 0 0 0 0 0 0 1 0 0 0 1 0 0 0 1 0 0 0 0 0 0 0 0 0 0 0 0 0 0 0 0 1\n",
      " 0 1 0 1 0 0]\n"
     ]
    }
   ],
   "source": [
    "print(y_pred )"
   ]
  },
  {
   "cell_type": "code",
   "execution_count": 144,
   "metadata": {},
   "outputs": [
    {
     "name": "stdout",
     "output_type": "stream",
     "text": [
      "[[48  4]\n",
      " [13 15]]\n",
      "0.79375\n",
      "0.7875\n"
     ]
    }
   ],
   "source": [
    "cm = confusion_matrix(y_test, y_pred)\n",
    "print(cm)\n",
    "print(knn.score(X_train, y_train))\n",
    "print(knn.score(X_test, y_test))"
   ]
  },
  {
   "cell_type": "code",
   "execution_count": 129,
   "metadata": {},
   "outputs": [],
   "source": [
    "#using decision tree"
   ]
  },
  {
   "cell_type": "code",
   "execution_count": 130,
   "metadata": {},
   "outputs": [],
   "source": [
    "from sklearn.tree import DecisionTreeRegressor\n",
    "from sklearn.model_selection import train_test_split\n",
    "X_train, X_test, y_train, y_test = train_test_split(X,y, test_size = 0.2)"
   ]
  },
  {
   "cell_type": "code",
   "execution_count": 131,
   "metadata": {},
   "outputs": [
    {
     "data": {
      "text/plain": [
       "DecisionTreeRegressor()"
      ]
     },
     "execution_count": 131,
     "metadata": {},
     "output_type": "execute_result"
    }
   ],
   "source": [
    "dtr = DecisionTreeRegressor()\n",
    "dtr.fit(X_train,y_train)"
   ]
  },
  {
   "cell_type": "code",
   "execution_count": 132,
   "metadata": {},
   "outputs": [],
   "source": [
    "y_pred = dtr.predict(X_test)"
   ]
  },
  {
   "cell_type": "code",
   "execution_count": 133,
   "metadata": {},
   "outputs": [
    {
     "name": "stdout",
     "output_type": "stream",
     "text": [
      "[0. 0. 0. 1. 1. 0. 0. 0. 0. 0. 0. 0. 0. 0. 1. 0. 1. 1. 0. 1. 0. 0. 0. 0.\n",
      " 1. 0. 1. 1. 1. 0. 0. 1. 0. 0. 0. 0. 1. 0. 0. 1. 0. 0. 0. 0. 0. 1. 0. 0.\n",
      " 1. 0. 0. 0. 1. 0. 1. 0. 1. 0. 1. 1. 1. 0. 0. 0. 0. 0. 1. 0. 1. 0. 0. 0.\n",
      " 1. 1. 1. 1. 0. 1. 1. 0.]\n"
     ]
    }
   ],
   "source": [
    "print(y_pred)"
   ]
  },
  {
   "cell_type": "code",
   "execution_count": 134,
   "metadata": {},
   "outputs": [
    {
     "name": "stdout",
     "output_type": "stream",
     "text": [
      "[0 0 0 1 1 0 0 0 0 0 0 0 0 0 1 0 1 1 0 0 1 0 0 0 1 0 1 1 1 0 0 0 0 0 0 0 1\n",
      " 0 0 0 1 0 1 0 0 1 0 1 1 0 0 0 1 0 1 0 1 0 0 0 1 0 0 0 0 0 1 0 1 0 0 0 1 1\n",
      " 1 1 0 1 1 0]\n"
     ]
    }
   ],
   "source": [
    "print(y_test)"
   ]
  },
  {
   "cell_type": "code",
   "execution_count": 136,
   "metadata": {},
   "outputs": [
    {
     "name": "stdout",
     "output_type": "stream",
     "text": [
      "[[47  5]\n",
      " [ 4 24]]\n",
      "1.0\n",
      "0.5054945054945056\n"
     ]
    }
   ],
   "source": [
    "cm = confusion_matrix(y_test, y_pred)\n",
    "print(cm)\n",
    "print(dtr.score(X_train, y_train))\n",
    "print(dtr.score(X_test, y_test))"
   ]
  }
 ],
 "metadata": {
  "kernelspec": {
   "display_name": "Python 3",
   "language": "python",
   "name": "python3"
  },
  "language_info": {
   "codemirror_mode": {
    "name": "ipython",
    "version": 3
   },
   "file_extension": ".py",
   "mimetype": "text/x-python",
   "name": "python",
   "nbconvert_exporter": "python",
   "pygments_lexer": "ipython3",
   "version": "3.8.5"
  }
 },
 "nbformat": 4,
 "nbformat_minor": 4
}
